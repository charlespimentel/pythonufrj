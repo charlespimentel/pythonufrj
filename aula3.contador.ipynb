{
  "nbformat": 4,
  "nbformat_minor": 0,
  "metadata": {
    "colab": {
      "name": "Untitled3.ipynb",
      "version": "0.3.2",
      "provenance": [],
      "include_colab_link": true
    },
    "kernelspec": {
      "name": "python3",
      "display_name": "Python 3"
    }
  },
  "cells": [
    {
      "cell_type": "markdown",
      "metadata": {
        "id": "view-in-github",
        "colab_type": "text"
      },
      "source": [
        "<a href=\"https://colab.research.google.com/github/charlespimentel/pythonufrj/blob/master/aula3.contador.ipynb\" target=\"_parent\"><img src=\"https://colab.research.google.com/assets/colab-badge.svg\" alt=\"Open In Colab\"/></a>"
      ]
    },
    {
      "metadata": {
        "id": "iBpBIUuFV6MN",
        "colab_type": "code",
        "colab": {
          "base_uri": "https://localhost:8080/",
          "height": 54
        },
        "outputId": "51191f76-2c18-47fa-ac1b-740afd3fba5e"
      },
      "cell_type": "code",
      "source": [
        "import requests\n",
        "import json\n",
        "\n",
        "contador = {}\n",
        "\n",
        "lista = json.loads(requests.get(\"https://bit.ly/2RXuXsD\").text)\n",
        "\n",
        "for x in lista:\n",
        "  if (x in contador):\n",
        "    contador[x] +=1\n",
        "  else:\n",
        "    contador[x] = 1\n",
        " \n",
        "contador\n",
        "\n",
        "print(contador.keys())"
      ],
      "execution_count": 5,
      "outputs": [
        {
          "output_type": "stream",
          "text": [
            "dict_keys([13, 85, 2, 36, 48, 34, 10, 52, 68, 83, 38, 72, 82, 71, 87, 14, 93, 7, 53, 97, 80, 77, 29, 75, 88, 81, 37, 65, 32, 50, 30, 44, 61, 11, 66, 92, 95, 26, 31, 40, 9, 5, 39, 60, 94, 84, 46, 91, 99, 24, 0, 100, 89, 74, 55, 23, 25, 19, 15, 1, 28, 73, 69, 21, 4, 78, 47, 18, 16, 41, 86, 67, 35, 76, 70, 8, 27, 98, 79, 62, 56, 42, 96, 3, 49, 51, 6, 57, 64, 63, 90, 58, 12, 33, 59, 54, 22, 43, 17, 45, 20])\n"
          ],
          "name": "stdout"
        }
      ]
    },
    {
      "metadata": {
        "id": "eKhxPfgAXNsf",
        "colab_type": "code",
        "colab": {}
      },
      "cell_type": "code",
      "source": [
        ""
      ],
      "execution_count": 0,
      "outputs": []
    }
  ]
}
{
  "nbformat": 4,
  "nbformat_minor": 0,
  "metadata": {
    "colab": {
      "name": "Untitled5.ipynb",
      "version": "0.3.2",
      "provenance": [],
      "include_colab_link": true
    },
    "kernelspec": {
      "name": "python3",
      "display_name": "Python 3"
    }
  },
  "cells": [
    {
      "cell_type": "markdown",
      "metadata": {
        "id": "view-in-github",
        "colab_type": "text"
      },
      "source": [
        "<a href=\"https://colab.research.google.com/github/charlespimentel/pythonufrj/blob/master/5feira.ipynb\" target=\"_parent\"><img src=\"https://colab.research.google.com/assets/colab-badge.svg\" alt=\"Open In Colab\"/></a>"
      ]
    },
    {
      "metadata": {
        "id": "aACIIrLfquMe",
        "colab_type": "code",
        "colab": {}
      },
      "cell_type": "code",
      "source": [
        "alunos = [{\"nome\":\"Rodrigo\",\"matrícula\":00001},\n",
        "        {\"nome\":\"João\",\"matrícula\":00002},\n",
        "        {\"nome\":\"André\",\"matrícula\":00003}]\n",
        "cursos = [{\"nome\":\"Python1\",\"professor\":,\"id\":001,\"dependências\",:[]},\n",
        "          {\"nome\":\"Python2\",\"professor\":,\"id\":002,\"dependências\",:[001,003]},\n",
        "          {\"nome\":\"Estatística\",\"professor\":,\"id\":003,\"dependências\",:[004]},\n",
        "          {\"nome\":\"Álgebra\",\"professor\":,\"id\":004,\"dependências\",:[]},\n",
        "          {\"nome\":\"R\",\"professor\":,\"id\":005,\"dependências\",:[001,003]},\n"
      ],
      "execution_count": 0,
      "outputs": []
    },
    {
      "metadata": {
        "id": "czMttibkuT47",
        "colab_type": "code",
        "colab": {}
      },
      "cell_type": "code",
      "source": [
        ""
      ],
      "execution_count": 0,
      "outputs": []
    }
  ]
}
{
  "nbformat": 4,
  "nbformat_minor": 0,
  "metadata": {
    "colab": {
      "name": "wisard1.ipynb",
      "version": "0.3.2",
      "provenance": [],
      "collapsed_sections": [],
      "include_colab_link": true
    },
    "kernelspec": {
      "name": "python3",
      "display_name": "Python 3"
    }
  },
  "cells": [
    {
      "cell_type": "markdown",
      "metadata": {
        "id": "view-in-github",
        "colab_type": "text"
      },
      "source": [
        "<a href=\"https://colab.research.google.com/github/charlespimentel/pythonufrj/blob/master/wisard1.ipynb\" target=\"_parent\"><img src=\"https://colab.research.google.com/assets/colab-badge.svg\" alt=\"Open In Colab\"/></a>"
      ]
    },
    {
      "cell_type": "code",
      "metadata": {
        "id": "VC_FMsfWiCBq",
        "colab_type": "code",
        "outputId": "9c8bb0bb-5000-4eae-a685-dc38b01a82a5",
        "colab": {
          "base_uri": "https://localhost:8080/",
          "height": 283
        }
      },
      "source": [
        "pip install wisardpkg\n"
      ],
      "execution_count": 2,
      "outputs": [
        {
          "output_type": "stream",
          "text": [
            "Collecting wisardpkg\n",
            "\u001b[?25l  Downloading https://files.pythonhosted.org/packages/f1/6d/02c4cc15ce041f26710fdf319bbb469372b22212fe5c8364615fe8b25f72/wisardpkg-1.6.3.tar.gz (126kB)\n",
            "\u001b[K     |████████████████████████████████| 133kB 5.0MB/s \n",
            "\u001b[?25hCollecting pybind11>=2.2 (from wisardpkg)\n",
            "\u001b[?25l  Downloading https://files.pythonhosted.org/packages/f2/7c/e71995e59e108799800cb0fce6c4b4927914d7eada0723dd20bae3b51786/pybind11-2.2.4-py2.py3-none-any.whl (145kB)\n",
            "\u001b[K     |████████████████████████████████| 153kB 16.7MB/s \n",
            "\u001b[?25hBuilding wheels for collected packages: wisardpkg\n",
            "  Building wheel for wisardpkg (setup.py) ... \u001b[?25lerror\n",
            "\u001b[31m  ERROR: Failed building wheel for wisardpkg\u001b[0m\n",
            "\u001b[?25h  Running setup.py clean for wisardpkg\n",
            "Failed to build wisardpkg\n",
            "Installing collected packages: pybind11, wisardpkg\n",
            "  Running setup.py install for wisardpkg ... \u001b[?25l\u001b[?25hdone\n",
            "Successfully installed pybind11-2.2.4 wisardpkg-1.6.3\n"
          ],
          "name": "stdout"
        }
      ]
    },
    {
      "cell_type": "code",
      "metadata": {
        "id": "eGo1_qZZimyl",
        "colab_type": "code",
        "colab": {}
      },
      "source": [
        "import wisardpkg\n"
      ],
      "execution_count": 0,
      "outputs": []
    },
    {
      "cell_type": "code",
      "metadata": {
        "id": "D1AWH2Lxn87x",
        "colab_type": "code",
        "colab": {}
      },
      "source": [
        "import wisardpkg as wp\n"
      ],
      "execution_count": 0,
      "outputs": []
    },
    {
      "cell_type": "code",
      "metadata": {
        "id": "1M1or21eodWU",
        "colab_type": "code",
        "outputId": "2cfb6cf5-0f1a-4a4d-8648-da33e15690ec",
        "colab": {
          "base_uri": "https://localhost:8080/",
          "height": 85
        }
      },
      "source": [
        "# load input data, just zeros and ones  \n",
        "X = [\n",
        "      [1,1,1,0,0,0,0,0],\n",
        "      [1,1,1,1,0,0,0,0],\n",
        "      [0,0,0,0,1,1,1,1],\n",
        "      [0,0,0,0,0,1,1,1]\n",
        "    ]\n",
        "\n",
        "# load label data, which must be a string array\n",
        "y = [\n",
        "      \"cold\",\n",
        "      \"cold\",\n",
        "      \"hot\",\n",
        "      \"hot\"\n",
        "    ]\n",
        "\n",
        "\n",
        "addressSize = 3     # number of addressing bits in the ram\n",
        "ignoreZero  = False # optional; causes the rams to ignore the address 0\n",
        "\n",
        "# False by default for performance reasons,\n",
        "# when True, WiSARD prints the progress of train() and classify()\n",
        "verbose = True\n",
        "\n",
        "wsd = wp.Wisard(addressSize, ignoreZero=ignoreZero, verbose=verbose)\n",
        "\n",
        "\n",
        "\n",
        "# train using the input data\n",
        "wsd.train(X,y)\n",
        "\n",
        "# classify some data\n",
        "out = wsd.classify(X)\n",
        "\n",
        "# the output of classify is a string list in the same sequence as the input\n",
        "for i,d in enumerate(X):\n",
        "    print(out[i],d)"
      ],
      "execution_count": 0,
      "outputs": [
        {
          "output_type": "stream",
          "text": [
            "cold [1, 1, 1, 0, 0, 0, 0, 0]\n",
            "cold [1, 1, 1, 1, 0, 0, 0, 0]\n",
            "hot [0, 0, 0, 0, 1, 1, 1, 1]\n",
            "hot [0, 0, 0, 0, 0, 1, 1, 1]\n"
          ],
          "name": "stdout"
        }
      ]
    },
    {
      "cell_type": "code",
      "metadata": {
        "id": "WzahbkuqpHs3",
        "colab_type": "code",
        "colab": {}
      },
      "source": [
        "import csv"
      ],
      "execution_count": 0,
      "outputs": []
    },
    {
      "cell_type": "code",
      "metadata": {
        "id": "xPbfd-twudPU",
        "colab_type": "code",
        "outputId": "d5abeb50-f201-44d6-97f2-7741ae8c4b82",
        "colab": {
          "base_uri": "https://localhost:8080/",
          "height": 125
        }
      },
      "source": [
        "from google.colab import drive\n",
        "drive.mount('/content/gdrive')"
      ],
      "execution_count": 5,
      "outputs": [
        {
          "output_type": "stream",
          "text": [
            "Go to this URL in a browser: https://accounts.google.com/o/oauth2/auth?client_id=947318989803-6bn6qk8qdgf4n4g3pfee6491hc0brc4i.apps.googleusercontent.com&redirect_uri=urn%3Aietf%3Awg%3Aoauth%3A2.0%3Aoob&scope=email%20https%3A%2F%2Fwww.googleapis.com%2Fauth%2Fdocs.test%20https%3A%2F%2Fwww.googleapis.com%2Fauth%2Fdrive%20https%3A%2F%2Fwww.googleapis.com%2Fauth%2Fdrive.photos.readonly%20https%3A%2F%2Fwww.googleapis.com%2Fauth%2Fpeopleapi.readonly&response_type=code\n",
            "\n",
            "Enter your authorization code:\n",
            "··········\n",
            "Mounted at /content/gdrive\n"
          ],
          "name": "stdout"
        }
      ]
    },
    {
      "cell_type": "code",
      "metadata": {
        "id": "lyNdIIcMu1oV",
        "colab_type": "code",
        "outputId": "7a7ee226-bda6-4f19-ffcb-94a47a4838f5",
        "colab": {
          "base_uri": "https://localhost:8080/",
          "height": 231
        }
      },
      "source": [
        "# load input data, just zeros and ones  \n",
        "X = [\n",
        "      [1,1,1,0,0,0,0,0],\n",
        "      [1,1,1,1,0,0,0,0],\n",
        "      [0,0,0,0,1,1,1,1],\n",
        "      [0,0,0,0,0,1,1,1]\n",
        "    ]\n",
        "\n",
        "# load label data, which must be a string array\n",
        "y = [\n",
        "      \"cold\",\n",
        "      \"cold\",\n",
        "      \"hot\",\n",
        "      \"hot\"\n",
        "    ]\n",
        "\n",
        "\n",
        "addressSize = 3     # number of addressing bits in the ram\n",
        "ignoreZero  = False # optional; causes the rams to ignore the address 0\n",
        "\n",
        "# False by default for performance reasons,\n",
        "# when True, WiSARD prints the progress of train() and classify()\n",
        "verbose = True\n",
        "\n",
        "wsd = wp.Wisard(addressSize, ignoreZero=ignoreZero, verbose=verbose)\n",
        "\n",
        "\n",
        "\n",
        "# train using the input data\n",
        "wsd.train(X,y)\n",
        "\n",
        "# classify some data\n",
        "out = wsd.classify(X)\n",
        "\n",
        "# the output of classify is a string list in the same sequence as the input\n",
        "for i,d in enumerate(X):\n",
        "    print(out[i],d)"
      ],
      "execution_count": 0,
      "outputs": [
        {
          "output_type": "error",
          "ename": "NameError",
          "evalue": "ignored",
          "traceback": [
            "\u001b[0;31m---------------------------------------------------------------------------\u001b[0m",
            "\u001b[0;31mNameError\u001b[0m                                 Traceback (most recent call last)",
            "\u001b[0;32m<ipython-input-3-92dd6e775cae>\u001b[0m in \u001b[0;36m<module>\u001b[0;34m()\u001b[0m\n\u001b[1;32m     22\u001b[0m \u001b[0mverbose\u001b[0m \u001b[0;34m=\u001b[0m \u001b[0;32mTrue\u001b[0m\u001b[0;34m\u001b[0m\u001b[0;34m\u001b[0m\u001b[0m\n\u001b[1;32m     23\u001b[0m \u001b[0;34m\u001b[0m\u001b[0m\n\u001b[0;32m---> 24\u001b[0;31m \u001b[0mwsd\u001b[0m \u001b[0;34m=\u001b[0m \u001b[0mwp\u001b[0m\u001b[0;34m.\u001b[0m\u001b[0mWisard\u001b[0m\u001b[0;34m(\u001b[0m\u001b[0maddressSize\u001b[0m\u001b[0;34m,\u001b[0m \u001b[0mignoreZero\u001b[0m\u001b[0;34m=\u001b[0m\u001b[0mignoreZero\u001b[0m\u001b[0;34m,\u001b[0m \u001b[0mverbose\u001b[0m\u001b[0;34m=\u001b[0m\u001b[0mverbose\u001b[0m\u001b[0;34m)\u001b[0m\u001b[0;34m\u001b[0m\u001b[0;34m\u001b[0m\u001b[0m\n\u001b[0m\u001b[1;32m     25\u001b[0m \u001b[0;34m\u001b[0m\u001b[0m\n\u001b[1;32m     26\u001b[0m \u001b[0;34m\u001b[0m\u001b[0m\n",
            "\u001b[0;31mNameError\u001b[0m: name 'wp' is not defined"
          ]
        }
      ]
    },
    {
      "cell_type": "code",
      "metadata": {
        "id": "7iW3zY-iZKpb",
        "colab_type": "code",
        "colab": {}
      },
      "source": [
        "import wisardpkg as wp"
      ],
      "execution_count": 0,
      "outputs": []
    },
    {
      "cell_type": "code",
      "metadata": {
        "id": "w4nQVYRsZPtS",
        "colab_type": "code",
        "outputId": "3c383729-772a-420b-c0e3-c8f078826df3",
        "colab": {
          "base_uri": "https://localhost:8080/",
          "height": 275
        }
      },
      "source": [
        "pip install wisardpkg"
      ],
      "execution_count": 0,
      "outputs": [
        {
          "output_type": "stream",
          "text": [
            "Collecting wisardpkg\n",
            "\u001b[?25l  Downloading https://files.pythonhosted.org/packages/f1/6d/02c4cc15ce041f26710fdf319bbb469372b22212fe5c8364615fe8b25f72/wisardpkg-1.6.3.tar.gz (126kB)\n",
            "\u001b[K    100% |████████████████████████████████| 133kB 3.6MB/s \n",
            "\u001b[?25hCollecting pybind11>=2.2 (from wisardpkg)\n",
            "\u001b[?25l  Downloading https://files.pythonhosted.org/packages/f2/7c/e71995e59e108799800cb0fce6c4b4927914d7eada0723dd20bae3b51786/pybind11-2.2.4-py2.py3-none-any.whl (145kB)\n",
            "\u001b[K    100% |████████████████████████████████| 153kB 8.3MB/s \n",
            "\u001b[?25hBuilding wheels for collected packages: wisardpkg\n",
            "  Building wheel for wisardpkg (setup.py) ... \u001b[?25lerror\n",
            "\u001b[31m  Failed building wheel for wisardpkg\u001b[0m\n",
            "\u001b[?25h  Running setup.py clean for wisardpkg\n",
            "Failed to build wisardpkg\n",
            "Installing collected packages: pybind11, wisardpkg\n",
            "  Running setup.py install for wisardpkg ... \u001b[?25ldone\n",
            "\u001b[?25hSuccessfully installed pybind11-2.2.4 wisardpkg-1.6.3\n"
          ],
          "name": "stdout"
        }
      ]
    },
    {
      "cell_type": "code",
      "metadata": {
        "id": "pwmH6siDZUh4",
        "colab_type": "code",
        "colab": {}
      },
      "source": [
        "import wisardpkg as wp"
      ],
      "execution_count": 0,
      "outputs": []
    },
    {
      "cell_type": "code",
      "metadata": {
        "id": "E-KF6O1kZix3",
        "colab_type": "code",
        "outputId": "80506234-7d72-4d17-fa0c-bb5e9d8b0537",
        "colab": {
          "base_uri": "https://localhost:8080/",
          "height": 85
        }
      },
      "source": [
        "# load input data, just zeros and ones  \n",
        "X = [\n",
        "      [1,1,1,0,0,0,0,0],\n",
        "      [1,1,1,1,0,0,0,0],\n",
        "      [0,0,0,0,1,1,1,1],\n",
        "      [0,0,0,0,0,1,1,1]\n",
        "    ]\n",
        "\n",
        "# load label data, which must be a string array\n",
        "y = [\n",
        "      \"cold\",\n",
        "      \"cold\",\n",
        "      \"hot\",\n",
        "      \"hot\"\n",
        "    ]\n",
        "\n",
        "\n",
        "addressSize = 3     # number of addressing bits in the ram\n",
        "ignoreZero  = False # optional; causes the rams to ignore the address 0\n",
        "\n",
        "# False by default for performance reasons,\n",
        "# when True, WiSARD prints the progress of train() and classify()\n",
        "verbose = True\n",
        "\n",
        "wsd = wp.Wisard(addressSize, ignoreZero=ignoreZero, verbose=verbose)\n",
        "\n",
        "\n",
        "\n",
        "# train using the input data\n",
        "wsd.train(X,y)\n",
        "\n",
        "# classify some data\n",
        "out = wsd.classify(X)\n",
        "\n",
        "# the output of classify is a string list in the same sequence as the input\n",
        "for i,d in enumerate(X):\n",
        "    print(out[i],d)"
      ],
      "execution_count": 0,
      "outputs": [
        {
          "output_type": "stream",
          "text": [
            "cold [1, 1, 1, 0, 0, 0, 0, 0]\n",
            "cold [1, 1, 1, 1, 0, 0, 0, 0]\n",
            "hot [0, 0, 0, 0, 1, 1, 1, 1]\n",
            "hot [0, 0, 0, 0, 0, 1, 1, 1]\n"
          ],
          "name": "stdout"
        }
      ]
    },
    {
      "cell_type": "code",
      "metadata": {
        "id": "FMq84GwqZmmO",
        "colab_type": "code",
        "outputId": "c4014ca3-05d1-4611-9fa4-a6b834b8bb5d",
        "colab": {
          "base_uri": "https://localhost:8080/",
          "height": 238
        }
      },
      "source": [
        "# arquivo de treino \n",
        "A = '/content/gdrive/My Drive/Colab Notebooks/aula2mnist/mnist_train.csv'\n",
        "\n",
        "# arquivo de teste\n",
        "b = '/content/gdrive/My Drive/Colab Notebooks/aula2mnist/mnist_test.csv'\n",
        "\n",
        "import csv\n",
        "\n",
        "#Indicar a Leitura\n",
        "ficheiro = open(A, 'rt')\n",
        "ficheiro1 = open(b, 'rt')\n",
        "\n",
        "#Lista\n",
        "listaLabel = []\n",
        "listaInput = []\n",
        "listaLabel1 = []\n",
        "listaInput1 = []\n",
        "\n",
        "#Ler o ficheiro de treino\n",
        "reader = csv.reader(ficheiro)\n",
        "for linha in reader:\n",
        "    input = []\n",
        "    listaLabel.append(linha[0])\n",
        "    for i in range(1, len(linha)):\n",
        "      if(int(linha[i]) > 125):\n",
        "        input.append(1)\n",
        "      else:\n",
        "        input.append(0)\n",
        "    listaInput.append(input) \n",
        "\n",
        "#Ler o ficheiro de teste\n",
        "reader = csv.reader(ficheiro1)\n",
        "for linha1 in reader:\n",
        "    input = []\n",
        "    listaLabel1.append(linha1[0])\n",
        "    for i in range(1, len(linha1)):\n",
        "      if(int(linha1[i]) > 125):\n",
        "        input.append(1)\n",
        "      else:\n",
        "        input.append(0)\n",
        "    listaInput1.append(input)    \n",
        "   \n",
        " # Aqui começa a Wisard     \n",
        "\n",
        "addressSize = 32     # number of addressing bits in the ram\n",
        "ignoreZero  = False # optional; causes the rams to ignore the address 0\n",
        "\n",
        "# False by default for performance reasons,\n",
        "# when True, WiSARD prints the progress of train() and classify()\n",
        "\n",
        "verbose = True\n",
        "\n",
        "wsd = wp.Wisard(addressSize, ignoreZero=ignoreZero, verbose=verbose)\n",
        "\n",
        "# train using the input data\n",
        "wsd.train(listaInput,listaLabel)\n",
        "\n",
        "# classify some data\n",
        "out = wsd.classify(listaInput1)\n",
        "\n",
        "# the output of classify is a string list in the same sequence as the input\n",
        "\n",
        "# Acuracia: Comparar cada elemento da listaLabel com out\n",
        "\n",
        "acertos = 0\n",
        "for i in range(len(listaLabel1)):\n",
        "  if listaLabel1[i]==out[i]:\n",
        "    acertos = acertos + 1\n",
        "  acuracia = acertos/len(listaLabel1)\n",
        "print(acuracia*100)\n",
        "\n",
        "import numpy as np\n",
        "import matplotlib.pyplot as plt\n",
        "\n",
        "from sklearn import svm, datasets\n",
        "from sklearn.model_selection import train_test_split\n",
        "from sklearn.metrics import confusion_matrix\n",
        "from sklearn.utils.multiclass import unique_labels\n",
        "\n",
        "def plot_confusion_matrix(y_true, y_pred, classes, normalize=False, title=None, cmap=plt.cm.Blues):\n",
        "    cm = confusion_matrix(y_true, y_pred)\n",
        "    # Only use the labels that appear in the data\n",
        "    classes = unique_labels(y_true, y_pred)\n",
        "\n",
        "    fig, ax = plt.subplots()\n",
        "    im = ax.imshow(cm, interpolation='nearest', cmap=cmap)\n",
        "    ax.figure.colorbar(im, ax=ax)\n",
        "    # We want to show all ticks...\n",
        "    ax.set(xticks=np.arange(cm.shape[1]),\n",
        "           yticks=np.arange(cm.shape[0]),\n",
        "           # ... and label them with the respective list entries\n",
        "           xticklabels=classes, yticklabels=classes,\n",
        "           title=title,\n",
        "           ylabel='True label',\n",
        "           xlabel='Predicted label')\n",
        "\n",
        "    # Rotate the tick labels and set their alignment.\n",
        "    plt.setp(ax.get_xticklabels(), rotation=45, ha=\"right\",\n",
        "             rotation_mode=\"anchor\")\n",
        "\n",
        "    # Loop over data dimensions and create text annotations.\n",
        "    fmt = '.2f' if normalize else 'd'\n",
        "    thresh = cm.max() / 2.\n",
        "    for i in range(cm.shape[0]):\n",
        "        for j in range(cm.shape[1]):\n",
        "            ax.text(j, i, format(cm[i, j], fmt), ha=\"center\", va=\"center\", color=\"white\" if cm[i, j] > thresh else \"black\")\n",
        "    fig.tight_layout()\n",
        "    return ax\n",
        "\n",
        "\n",
        "np.set_printoptions(precision=2)\n",
        "\n",
        "# Plot non-normalized confusion matrix\n",
        "plot_confusion_matrix(y_test, y_pred, classes=class_names, title='Confusion matrix, without normalization')\n",
        "\n",
        "# Plot normalized confusion matrix\n",
        "plot_confusion_matrix(y_test, y_pred, classes=class_names, normalize=True, title='Normalized confusion matrix')\n",
        "\n",
        "plt.show()\n"
      ],
      "execution_count": 1,
      "outputs": [
        {
          "output_type": "error",
          "ename": "FileNotFoundError",
          "evalue": "ignored",
          "traceback": [
            "\u001b[0;31m---------------------------------------------------------------------------\u001b[0m",
            "\u001b[0;31mFileNotFoundError\u001b[0m                         Traceback (most recent call last)",
            "\u001b[0;32m<ipython-input-1-83dc3859d6bd>\u001b[0m in \u001b[0;36m<module>\u001b[0;34m()\u001b[0m\n\u001b[1;32m      7\u001b[0m \u001b[0;34m\u001b[0m\u001b[0m\n\u001b[1;32m      8\u001b[0m \u001b[0;31m#Indicar a Leitura\u001b[0m\u001b[0;34m\u001b[0m\u001b[0;34m\u001b[0m\u001b[0;34m\u001b[0m\u001b[0m\n\u001b[0;32m----> 9\u001b[0;31m \u001b[0mficheiro\u001b[0m \u001b[0;34m=\u001b[0m \u001b[0mopen\u001b[0m\u001b[0;34m(\u001b[0m\u001b[0mA\u001b[0m\u001b[0;34m,\u001b[0m \u001b[0;34m'rt'\u001b[0m\u001b[0;34m)\u001b[0m\u001b[0;34m\u001b[0m\u001b[0;34m\u001b[0m\u001b[0m\n\u001b[0m\u001b[1;32m     10\u001b[0m \u001b[0mficheiro1\u001b[0m \u001b[0;34m=\u001b[0m \u001b[0mopen\u001b[0m\u001b[0;34m(\u001b[0m\u001b[0mb\u001b[0m\u001b[0;34m,\u001b[0m \u001b[0;34m'rt'\u001b[0m\u001b[0;34m)\u001b[0m\u001b[0;34m\u001b[0m\u001b[0;34m\u001b[0m\u001b[0m\n\u001b[1;32m     11\u001b[0m \u001b[0;34m\u001b[0m\u001b[0m\n",
            "\u001b[0;31mFileNotFoundError\u001b[0m: [Errno 2] No such file or directory: '/content/gdrive/My Drive/Colab Notebooks/aula2mnist/mnist_train.csv'"
          ]
        }
      ]
    },
    {
      "cell_type": "code",
      "metadata": {
        "id": "xH5P6tvCE8rk",
        "colab_type": "code",
        "colab": {}
      },
      "source": [
        ""
      ],
      "execution_count": 0,
      "outputs": []
    }
  ]
}
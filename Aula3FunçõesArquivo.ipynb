{
  "nbformat": 4,
  "nbformat_minor": 0,
  "metadata": {
    "colab": {
      "name": "Untitled3.ipynb",
      "version": "0.3.2",
      "provenance": [],
      "include_colab_link": true
    },
    "kernelspec": {
      "name": "python3",
      "display_name": "Python 3"
    }
  },
  "cells": [
    {
      "cell_type": "markdown",
      "metadata": {
        "id": "view-in-github",
        "colab_type": "text"
      },
      "source": [
        "<a href=\"https://colab.research.google.com/github/charlespimentel/pythonufrj/blob/master/Aula3Fun%C3%A7%C3%B5esArquivo.ipynb\" target=\"_parent\"><img src=\"https://colab.research.google.com/assets/colab-badge.svg\" alt=\"Open In Colab\"/></a>"
      ]
    },
    {
      "metadata": {
        "id": "iBpBIUuFV6MN",
        "colab_type": "code",
        "colab": {
          "base_uri": "https://localhost:8080/",
          "height": 54
        },
        "outputId": "51191f76-2c18-47fa-ac1b-740afd3fba5e"
      },
      "cell_type": "code",
      "source": [
        "import requests\n",
        "import json\n",
        "\n",
        "contador = {}\n",
        "\n",
        "lista = json.loads(requests.get(\"https://bit.ly/2RXuXsD\").text)\n",
        "\n",
        "for x in lista:\n",
        "  if (x in contador):\n",
        "    contador[x] +=1\n",
        "  else:\n",
        "    contador[x] = 1\n",
        " \n",
        "contador\n",
        "\n",
        "print(contador.keys())"
      ],
      "execution_count": 5,
      "outputs": [
        {
          "output_type": "stream",
          "text": [
            "dict_keys([13, 85, 2, 36, 48, 34, 10, 52, 68, 83, 38, 72, 82, 71, 87, 14, 93, 7, 53, 97, 80, 77, 29, 75, 88, 81, 37, 65, 32, 50, 30, 44, 61, 11, 66, 92, 95, 26, 31, 40, 9, 5, 39, 60, 94, 84, 46, 91, 99, 24, 0, 100, 89, 74, 55, 23, 25, 19, 15, 1, 28, 73, 69, 21, 4, 78, 47, 18, 16, 41, 86, 67, 35, 76, 70, 8, 27, 98, 79, 62, 56, 42, 96, 3, 49, 51, 6, 57, 64, 63, 90, 58, 12, 33, 59, 54, 22, 43, 17, 45, 20])\n"
          ],
          "name": "stdout"
        }
      ]
    },
    {
      "metadata": {
        "id": "eKhxPfgAXNsf",
        "colab_type": "code",
        "colab": {}
      },
      "cell_type": "code",
      "source": [
        "for item in contador.items()\n",
        "  print(item[0],item[1])\n"
      ],
      "execution_count": 0,
      "outputs": []
    },
    {
      "metadata": {
        "id": "vY9BIganYpmW",
        "colab_type": "code",
        "colab": {
          "base_uri": "https://localhost:8080/",
          "height": 68
        },
        "outputId": "f910a6de-4fac-4be2-8f05-17d469e34fce"
      },
      "cell_type": "code",
      "source": [
        "lista_tuplas = [(1,2) , (3,4), (5,6)]\n",
        "for chave, valor in lista_tuplas:\n",
        "  print(valor)"
      ],
      "execution_count": 9,
      "outputs": [
        {
          "output_type": "stream",
          "text": [
            "2\n",
            "4\n",
            "6\n"
          ],
          "name": "stdout"
        }
      ]
    },
    {
      "metadata": {
        "id": "X9QNHp8IYzXM",
        "colab_type": "code",
        "colab": {
          "base_uri": "https://localhost:8080/",
          "height": 34
        },
        "outputId": "48470db7-af71-4ab8-d226-be6fe4170b91"
      },
      "cell_type": "code",
      "source": [
        "from collections import Counter\n",
        "contador = Counter (lista)\n",
        "contador.most_common(5)"
      ],
      "execution_count": 10,
      "outputs": [
        {
          "output_type": "execute_result",
          "data": {
            "text/plain": [
              "[(14, 19), (26, 18), (89, 16), (2, 15), (93, 15)]"
            ]
          },
          "metadata": {
            "tags": []
          },
          "execution_count": 10
        }
      ]
    },
    {
      "metadata": {
        "id": "6PckzeuAac7C",
        "colab_type": "code",
        "colab": {
          "base_uri": "https://localhost:8080/",
          "height": 54
        },
        "outputId": "c84d91f5-0f85-4e7c-b7a9-1e6966764d05"
      },
      "cell_type": "code",
      "source": [
        "texto = requests.get(\"https://bit.ly/2Cu73N6\").text\n",
        "texto"
      ],
      "execution_count": 11,
      "outputs": [
        {
          "output_type": "execute_result",
          "data": {
            "text/plain": [
              "'Dear Partner,\\n\\nWe are very excited to inform you that \\nthe Docker Partner Team will be hosting a \\ndedicated Partner Event, right before the beginning \\nof DockerCon Europe on Dec 3rd, 2018 in Barcelona. \\nWe are delighted to invite you! \\n\\nWith most of our executive leaders on stage, \\nwe aim to deliver strong value to you by turning \\nour partner strategy into reality.\\nWe will update you on the Docker Enterprise \\nsales and technical messaging to equip you \\nbetter addressing our numerous business opportunities \\nand building further upon our successful engagement. \\n\\nPlease save the date for the 2018 Docker Partner Day: \\nDecember 3rd, from 12:00-17:00 in Barcelona, CCIB, \\nPlaca de Willy Brandt 11-14. More about the agenda \\nunder this link. We look forward to seeing you there. \\n\\nThank you, \\nGuy Martin, Director Channel and Alliances and the Docker Partner Team '"
            ]
          },
          "metadata": {
            "tags": []
          },
          "execution_count": 11
        }
      ]
    },
    {
      "metadata": {
        "id": "AV6hBSNGbivv",
        "colab_type": "code",
        "colab": {
          "base_uri": "https://localhost:8080/",
          "height": 408
        },
        "outputId": "4667e7f0-017f-463f-b4c6-7e1739051635"
      },
      "cell_type": "code",
      "source": [
        "print(texto)"
      ],
      "execution_count": 12,
      "outputs": [
        {
          "output_type": "stream",
          "text": [
            "Dear Partner,\n",
            "\n",
            "We are very excited to inform you that \n",
            "the Docker Partner Team will be hosting a \n",
            "dedicated Partner Event, right before the beginning \n",
            "of DockerCon Europe on Dec 3rd, 2018 in Barcelona. \n",
            "We are delighted to invite you! \n",
            "\n",
            "With most of our executive leaders on stage, \n",
            "we aim to deliver strong value to you by turning \n",
            "our partner strategy into reality.\n",
            "We will update you on the Docker Enterprise \n",
            "sales and technical messaging to equip you \n",
            "better addressing our numerous business opportunities \n",
            "and building further upon our successful engagement. \n",
            "\n",
            "Please save the date for the 2018 Docker Partner Day: \n",
            "December 3rd, from 12:00-17:00 in Barcelona, CCIB, \n",
            "Placa de Willy Brandt 11-14. More about the agenda \n",
            "under this link. We look forward to seeing you there. \n",
            "\n",
            "Thank you, \n",
            "Guy Martin, Director Channel and Alliances and the Docker Partner Team \n"
          ],
          "name": "stdout"
        }
      ]
    },
    {
      "metadata": {
        "id": "V5Kj8M3_boFH",
        "colab_type": "code",
        "colab": {
          "base_uri": "https://localhost:8080/",
          "height": 2380
        },
        "outputId": "efd95722-f96b-455f-f4a4-97c128b1e550"
      },
      "cell_type": "code",
      "source": [
        "texto.split(\" \")"
      ],
      "execution_count": 25,
      "outputs": [
        {
          "output_type": "execute_result",
          "data": {
            "text/plain": [
              "['Dear',\n",
              " 'Partner,\\n\\nWe',\n",
              " 'are',\n",
              " 'very',\n",
              " 'excited',\n",
              " 'to',\n",
              " 'inform',\n",
              " 'you',\n",
              " 'that',\n",
              " '\\nthe',\n",
              " 'Docker',\n",
              " 'Partner',\n",
              " 'Team',\n",
              " 'will',\n",
              " 'be',\n",
              " 'hosting',\n",
              " 'a',\n",
              " '\\ndedicated',\n",
              " 'Partner',\n",
              " 'Event,',\n",
              " 'right',\n",
              " 'before',\n",
              " 'the',\n",
              " 'beginning',\n",
              " '\\nof',\n",
              " 'DockerCon',\n",
              " 'Europe',\n",
              " 'on',\n",
              " 'Dec',\n",
              " '3rd,',\n",
              " '2018',\n",
              " 'in',\n",
              " 'Barcelona.',\n",
              " '\\nWe',\n",
              " 'are',\n",
              " 'delighted',\n",
              " 'to',\n",
              " 'invite',\n",
              " 'you!',\n",
              " '\\n\\nWith',\n",
              " 'most',\n",
              " 'of',\n",
              " 'our',\n",
              " 'executive',\n",
              " 'leaders',\n",
              " 'on',\n",
              " 'stage,',\n",
              " '\\nwe',\n",
              " 'aim',\n",
              " 'to',\n",
              " 'deliver',\n",
              " 'strong',\n",
              " 'value',\n",
              " 'to',\n",
              " 'you',\n",
              " 'by',\n",
              " 'turning',\n",
              " '\\nour',\n",
              " 'partner',\n",
              " 'strategy',\n",
              " 'into',\n",
              " 'reality.\\nWe',\n",
              " 'will',\n",
              " 'update',\n",
              " 'you',\n",
              " 'on',\n",
              " 'the',\n",
              " 'Docker',\n",
              " 'Enterprise',\n",
              " '\\nsales',\n",
              " 'and',\n",
              " 'technical',\n",
              " 'messaging',\n",
              " 'to',\n",
              " 'equip',\n",
              " 'you',\n",
              " '\\nbetter',\n",
              " 'addressing',\n",
              " 'our',\n",
              " 'numerous',\n",
              " 'business',\n",
              " 'opportunities',\n",
              " '\\nand',\n",
              " 'building',\n",
              " 'further',\n",
              " 'upon',\n",
              " 'our',\n",
              " 'successful',\n",
              " 'engagement.',\n",
              " '\\n\\nPlease',\n",
              " 'save',\n",
              " 'the',\n",
              " 'date',\n",
              " 'for',\n",
              " 'the',\n",
              " '2018',\n",
              " 'Docker',\n",
              " 'Partner',\n",
              " 'Day:',\n",
              " '\\nDecember',\n",
              " '3rd,',\n",
              " 'from',\n",
              " '12:00-17:00',\n",
              " 'in',\n",
              " 'Barcelona,',\n",
              " 'CCIB,',\n",
              " '\\nPlaca',\n",
              " 'de',\n",
              " 'Willy',\n",
              " 'Brandt',\n",
              " '11-14.',\n",
              " 'More',\n",
              " 'about',\n",
              " 'the',\n",
              " 'agenda',\n",
              " '\\nunder',\n",
              " 'this',\n",
              " 'link.',\n",
              " 'We',\n",
              " 'look',\n",
              " 'forward',\n",
              " 'to',\n",
              " 'seeing',\n",
              " 'you',\n",
              " 'there.',\n",
              " '\\n\\nThank',\n",
              " 'you,',\n",
              " '\\nGuy',\n",
              " 'Martin,',\n",
              " 'Director',\n",
              " 'Channel',\n",
              " 'and',\n",
              " 'Alliances',\n",
              " 'and',\n",
              " 'the',\n",
              " 'Docker',\n",
              " 'Partner',\n",
              " 'Team',\n",
              " '']"
            ]
          },
          "metadata": {
            "tags": []
          },
          "execution_count": 25
        }
      ]
    },
    {
      "metadata": {
        "id": "OEcPqLKCc3Cp",
        "colab_type": "code",
        "colab": {
          "base_uri": "https://localhost:8080/",
          "height": 34
        },
        "outputId": "50682fa3-cda5-4abb-ab9d-384a089f5589"
      },
      "cell_type": "code",
      "source": [
        "palavras = texto.split()\n",
        "contador_palavras = Counter (palavras)\n",
        "contador_palavras.most_common(2)"
      ],
      "execution_count": 30,
      "outputs": [
        {
          "output_type": "execute_result",
          "data": {
            "text/plain": [
              "[('the', 7), ('to', 6)]"
            ]
          },
          "metadata": {
            "tags": []
          },
          "execution_count": 30
        }
      ]
    },
    {
      "metadata": {
        "id": "a72jdebxd9pc",
        "colab_type": "code",
        "colab": {
          "base_uri": "https://localhost:8080/",
          "height": 34
        },
        "outputId": "36360607-a03d-47cc-f0aa-f14e19e716e1"
      },
      "cell_type": "code",
      "source": [
        "def quadrado(x):\n",
        "  return x*x\n",
        "\n",
        "quadrado (11)"
      ],
      "execution_count": 32,
      "outputs": [
        {
          "output_type": "execute_result",
          "data": {
            "text/plain": [
              "121"
            ]
          },
          "metadata": {
            "tags": []
          },
          "execution_count": 32
        }
      ]
    },
    {
      "metadata": {
        "id": "7Tl38nwIfq2O",
        "colab_type": "code",
        "colab": {
          "base_uri": "https://localhost:8080/",
          "height": 34
        },
        "outputId": "1eb25b96-d221-493f-ace2-6540430c2b3f"
      },
      "cell_type": "code",
      "source": [
        "numeros = {3,6,9,12}\n",
        "type (numeros)\n",
        "\n",
        "\n",
        "\n"
      ],
      "execution_count": 34,
      "outputs": [
        {
          "output_type": "execute_result",
          "data": {
            "text/plain": [
              "set"
            ]
          },
          "metadata": {
            "tags": []
          },
          "execution_count": 34
        }
      ]
    },
    {
      "metadata": {
        "id": "riZK6H_9kXPm",
        "colab_type": "code",
        "colab": {
          "base_uri": "https://localhost:8080/",
          "height": 34
        },
        "outputId": "eae1689e-0df0-4f36-f225-8d97f93ded20"
      },
      "cell_type": "code",
      "source": [
        "texto = \"o dia está lindo\"\n",
        "type (texto)"
      ],
      "execution_count": 36,
      "outputs": [
        {
          "output_type": "execute_result",
          "data": {
            "text/plain": [
              "str"
            ]
          },
          "metadata": {
            "tags": []
          },
          "execution_count": 36
        }
      ]
    },
    {
      "metadata": {
        "id": "yoYCSKQSkuQT",
        "colab_type": "code",
        "colab": {
          "base_uri": "https://localhost:8080/",
          "height": 34
        },
        "outputId": "3f33fd90-a397-4c46-f0f9-71e99ff10eb1"
      },
      "cell_type": "code",
      "source": [
        "entrada = \"Bom dia\"\n",
        "\n",
        "x = type(entrada)\n",
        "\n",
        "if x == str:\n",
        " print(\"oi\")\n",
        "\n",
        "\n",
        "else:\n",
        " print(\"ai\")"
      ],
      "execution_count": 45,
      "outputs": [
        {
          "output_type": "stream",
          "text": [
            "oi\n"
          ],
          "name": "stdout"
        }
      ]
    },
    {
      "metadata": {
        "id": "0TobN2vjmMqH",
        "colab_type": "code",
        "colab": {}
      },
      "cell_type": "code",
      "source": [
        "from collections import Counter\n",
        "def contador (entrada):\n",
        "  x = type(entrada)\n",
        "\n",
        "  for elementos in entrada:\n",
        "    if x == type(\"\"):  \n",
        "      palavras = elementos.split()\n",
        "      contador_palavras = Counter (palavras)\n",
        "      return contador_palavras.most_common(10) \n",
        "\n",
        "    else:\n",
        "      elementos = Counter (entrada)\n",
        "      return elementos.most_common(10)\n",
        "  "
      ],
      "execution_count": 0,
      "outputs": []
    },
    {
      "metadata": {
        "id": "ANdYEMLJsdpz",
        "colab_type": "code",
        "colab": {
          "base_uri": "https://localhost:8080/",
          "height": 187
        },
        "outputId": "d09f177c-1334-4a79-ea63-eb0dbf8ffab9"
      },
      "cell_type": "code",
      "source": [
        "import requests\n",
        "import json\n",
        "\n",
        "contador (lista)"
      ],
      "execution_count": 78,
      "outputs": [
        {
          "output_type": "execute_result",
          "data": {
            "text/plain": [
              "[(14, 19),\n",
              " (26, 18),\n",
              " (89, 16),\n",
              " (2, 15),\n",
              " (93, 15),\n",
              " (7, 15),\n",
              " (80, 15),\n",
              " (52, 14),\n",
              " (83, 14),\n",
              " (82, 14)]"
            ]
          },
          "metadata": {
            "tags": []
          },
          "execution_count": 78
        }
      ]
    },
    {
      "metadata": {
        "id": "a6mt8wLcspOP",
        "colab_type": "code",
        "colab": {}
      },
      "cell_type": "code",
      "source": [
        ""
      ],
      "execution_count": 0,
      "outputs": []
    }
  ]
}